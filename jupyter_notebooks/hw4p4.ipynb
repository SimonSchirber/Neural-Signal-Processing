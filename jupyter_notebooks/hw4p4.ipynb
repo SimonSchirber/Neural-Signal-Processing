{
 "cells": [
  {
   "cell_type": "markdown",
   "metadata": {
    "id": "ZgG6ccU9SMxR"
   },
   "source": [
    "## Homework 4, Problem 4 Classification on real data\n",
    "\n",
    "ECE C143A/C243A, Spring Quarter 2022, Prof. J.C. Kao, TAs T. Monsoor, W. Yu"
   ]
  },
  {
   "cell_type": "markdown",
   "metadata": {
    "id": "lC0AeGDVSMxY"
   },
   "source": [
    "## Background\n",
    "Neural prosthetic systems can be built based on classifying neural activity related to planning. As described in class, this is analogous to mapping patterns of neural activity to keys on a keyboard.\n",
    "In this problem, we will apply the results of Problems 1 and 2 to real neural data. The neural data were recorded using a 100-electrode array in premotor cortex of a macaque monkey1. The dataset can be found on CCLE as `ps4_realdata.mat`.\n",
    "\n",
    "The following describes the data format. The `.mat` file is loaded into Python as a dictionary with two keys: `train_trial` contains the training data and `test_trial` contains the test data. Each of these contains spike trains recorded simultaneously from 97 neurons while the monkey reached 91 times along each of 8 different reaching angles.\n",
    "\n",
    "The spike train recorded from the $i_{th}$ neuron on the $n_{th}$ trial of the $k_{th}$ reaching angle is accessed as \n",
    "\n",
    "`data['train_trial'][n,k][1][i,:]`\n",
    "\n",
    "where n = 0,...,90, k = 0,...,7, and i = 0, . . . , 96.  The [1] in between [n,k] and [i,:] does not mean anything for this assignment and is simply an \"artifact\" of how the data is structured. A spike train is represented as a sequence of zeros and ones, where time is discretized in 1 ms steps. A zero indicates that the neuron did not spike in the 1 ms bin, whereas a one indicates that the neuron spiked once in the 1 ms bin. The structure test trial has the same format as train trial.\n",
    "\n",
    "Each spike train is 700 ms long (and thus represented by an array of length 700).  This comprises a 200ms baseline period (before the reach target turned on), a 500ms planning period (after the reach target turned on).  Because it takes time for information about the reach target to arrive in premotor cortex (due to the time required for action potentials to propagate and for visual processing), we will ignore the first 150ms of the planning period.  *** FOR THIS PROBLEM, we will take spike counts for each neuron within a single 200ms bin starting 150ms after the reach target turns on. ***\n",
    "\n",
    "In other words, to calculate firing rates, you will calculate it over the 200ms window: \n",
    "\n",
    "`data['train_trial'][n,k][1][i,350:550]`"
   ]
  },
  {
   "cell_type": "code",
   "execution_count": 85,
   "metadata": {
    "id": "cI7QYP8_SMxZ"
   },
   "outputs": [
    {
     "name": "stdout",
     "output_type": "stream",
     "text": [
      "The autoreload extension is already loaded. To reload it, use:\n",
      "  %reload_ext autoreload\n"
     ]
    }
   ],
   "source": [
    "import numpy as np\n",
    "import numpy.matlib as npm\n",
    "import matplotlib.pyplot as plt\n",
    "import scipy.special\n",
    "import scipy.io as sio\n",
    "import math\n",
    "\n",
    "data = sio.loadmat('ps4_realdata.mat') # load the .mat file.\n",
    "NumTrainData = data['train_trial'].shape[0]\n",
    "NumClass = data['train_trial'].shape[1]\n",
    "NumTestData = data['test_trial'].shape[0]\n",
    "\n",
    "# Reloading any code written in external .py files.\n",
    "%load_ext autoreload\n",
    "%autoreload 2"
   ]
  },
  {
   "cell_type": "markdown",
   "metadata": {
    "id": "pyyXSIvQSMxc"
   },
   "source": [
    "### (a) (8 points) \n",
    "Fit the ML parameters of model i) to the training data (91 × 8 observations of a length 97 array of neuron firing rates). \n",
    "\n",
    "To calculate the firing rates, use a single 200ms bin starting from 150ms after the target turns on.  This corresponds to using `data['train_trial'][n,k][1][i, 350:550]` to calculate all firing rates.  This corresponds to a 200ms window that turns on 150ms after the reach turns on.\n",
    "\n",
    "Then, use these parameters to classify the test data (91 × 8 data points) according to the decision rule (1). What is the percent of test data points correctly classified?"
   ]
  },
  {
   "cell_type": "code",
   "execution_count": 90,
   "metadata": {
    "id": "YiZpvKqpSMxd"
   },
   "outputs": [
    {
     "name": "stdout",
     "output_type": "stream",
     "text": [
      "Accuracy is 0.9807692307692307\n"
     ]
    }
   ],
   "source": [
    "##4a\n",
    "\n",
    "# Calculate the firing rates.\n",
    "\n",
    "trainDataArr =  np.zeros((NumClass,NumTrainData,97)) # contains the firing rates for all neurons on all 8 x 91 trials in the training set\n",
    "testDataArr =  np.zeros((NumClass,NumTestData,97)) # for the testing set.\n",
    "\n",
    "for classIX in range(NumClass):\n",
    "    for trainDataIX in range(NumTrainData):   \n",
    "        trainDataArr[classIX,trainDataIX,:] = np.sum(data['train_trial'][trainDataIX,classIX][1][:,350:550],1)\n",
    "    for testDataIX in range(NumTestData):        \n",
    "        testDataArr[classIX,testDataIX,:]=np.sum(data['test_trial'][testDataIX,classIX][1][:,350:550],1)\n",
    "#====================================================#\n",
    "# YOUR CODE HERE:\n",
    "#   Fit the ML parameters of model i) to training data\n",
    "#====================================================#\n",
    "n_rates = []\n",
    "for classk in range(8):\n",
    "    mov_arr = []\n",
    "    for neuron in range(97):\n",
    "        neuron_arr = []\n",
    "        for datas in range(91):\n",
    "            neuron_arr.append(trainDataArr[classk, datas, neuron] * 5) #multiply by 5 to get firing rate\n",
    "        mov_arr.append(neuron_arr)\n",
    "    n_rates.append(mov_arr)\n",
    "\n",
    "means = []\n",
    "for mov in n_rates:\n",
    "    mov_arr = []\n",
    "    for neuron in mov:\n",
    "        avg = np.mean(neuron)\n",
    "        mov_arr.append(avg)\n",
    "    means.append(mov_arr)\n",
    "np_mean_arr = np.empty([8,97])\n",
    "for mov in range(8):\n",
    "    for neuron in range(97):\n",
    "        np_mean_arr[mov][neuron] = means[mov][neuron]\n",
    "conv = ([vars for vars in n_rates[0]])\n",
    "class_0_cov = np.cov(conv[0:])\n",
    "conv = ([vars for vars in n_rates[1]])\n",
    "class_1_cov = np.cov(conv[0:])\n",
    "conv = ([vars for vars in n_rates[2]])\n",
    "class_2_cov = np.cov(conv[0:])\n",
    "conv = ([vars for vars in n_rates[3]])\n",
    "class_3_cov = np.cov(conv[0:])\n",
    "conv = ([vars for vars in n_rates[4]])\n",
    "class_4_cov = np.cov(conv[0:])\n",
    "conv = ([vars for vars in n_rates[5]])\n",
    "class_5_cov = np.cov(conv[0:])\n",
    "conv = ([vars for vars in n_rates[6]])\n",
    "class_6_cov = np.cov(conv[0:])\n",
    "conv = ([vars for vars in n_rates[7]])\n",
    "class_7_cov = np.cov(conv[0:])\n",
    "\n",
    "sum_covs = (class_0_cov + class_1_cov + class_2_cov + class_3_cov + class_4_cov \n",
    "            + class_5_cov + class_6_cov + class_7_cov)\n",
    "\n",
    "######MODEL 1######\n",
    "modParam1 = {}\n",
    "modParam1['pi'] = np.array((1/8, 1/8, 1/8, 1/8, 1/8, 1/8, 1/8, 1/8,))\n",
    "modParam1['mean'] = np_mean_arr\n",
    "modParam1['cov'] = sum_covs/8\n",
    "\n",
    "\n",
    "#######Test Model 1##########\n",
    "right = 0\n",
    "guesses = 0\n",
    "\n",
    "for classk in range(8):\n",
    "    for datas in range(91):\n",
    "        Z = (trainDataArr[classk, datas, ] ) * 5 #multiply by 5 to get firing rate\n",
    "        prob_arr = []\n",
    "        inv_cov = np.linalg.inv(modParam1['cov'])\n",
    "        \n",
    "        for probs in range(8):\n",
    "            diff_mean = Z - modParam1['mean'][probs]\n",
    "            diff_mean_t = np.transpose(diff_mean)\n",
    "            prob_class =  -.5 *np.matmul(np.matmul(diff_mean_t, inv_cov), diff_mean) \n",
    "            prob_arr.append(prob_class)\n",
    "        max_probs = np.max(prob_arr)\n",
    "        guess = prob_arr.index(max_probs)\n",
    "        if (guess == classk):\n",
    "            right+=1\n",
    "        guesses+=1\n",
    "print(f'Accuracy is {right/guesses}')\n",
    "#====================================================#\n",
    "# END YOUR CODE\n",
    "#====================================================# \n",
    "\n",
    "\n",
    "#====================================================#\n",
    "# YOUR CODE HERE:\n",
    "#   Classify the test data and print the accuracy\n",
    "#====================================================#\n",
    "\n",
    "#====================================================#\n",
    "# END YOUR CODE\n",
    "#====================================================# \n"
   ]
  },
  {
   "cell_type": "markdown",
   "metadata": {
    "id": "roEOYIOXSMxe"
   },
   "source": [
    "#### Question:\n",
    "What is the percent of test data points correctly classified?"
   ]
  },
  {
   "cell_type": "markdown",
   "metadata": {
    "id": "fb-M_g11SMxe"
   },
   "source": [
    "#### Your answer: \n",
    "98% were correctly classified"
   ]
  },
  {
   "cell_type": "markdown",
   "metadata": {
    "id": "xsPJ14WjSMxf"
   },
   "source": [
    "### (b) (6 points) \n",
    "Repeat part (a) for model ii). You `should encounter a Python error` when classifying the test data. What is this error? Why did the Python error occur? What would we need to do to correct this error?\n",
    "\n",
    "To be concrete, the output of this cell should be a `Python error` and that's all fine.  But we want you to understand what the error is so we can fix it later.\n"
   ]
  },
  {
   "cell_type": "code",
   "execution_count": 87,
   "metadata": {
    "id": "jvrmfC3gSMxf"
   },
   "outputs": [
    {
     "ename": "LinAlgError",
     "evalue": "Singular matrix",
     "output_type": "error",
     "traceback": [
      "\u001b[1;31m---------------------------------------------------------------------------\u001b[0m",
      "\u001b[1;31mLinAlgError\u001b[0m                               Traceback (most recent call last)",
      "Input \u001b[1;32mIn [87]\u001b[0m, in \u001b[0;36m<cell line: 17>\u001b[1;34m()\u001b[0m\n\u001b[0;32m     20\u001b[0m prob_arr \u001b[38;5;241m=\u001b[39m []\n\u001b[0;32m     22\u001b[0m \u001b[38;5;28;01mfor\u001b[39;00m probs \u001b[38;5;129;01min\u001b[39;00m \u001b[38;5;28mrange\u001b[39m(\u001b[38;5;241m8\u001b[39m):\n\u001b[1;32m---> 23\u001b[0m     inv_cov \u001b[38;5;241m=\u001b[39m \u001b[43mnp\u001b[49m\u001b[38;5;241;43m.\u001b[39;49m\u001b[43mlinalg\u001b[49m\u001b[38;5;241;43m.\u001b[39;49m\u001b[43minv\u001b[49m\u001b[43m(\u001b[49m\u001b[43mmodParam2\u001b[49m\u001b[43m[\u001b[49m\u001b[38;5;124;43m'\u001b[39;49m\u001b[38;5;124;43mcov\u001b[39;49m\u001b[38;5;124;43m'\u001b[39;49m\u001b[43m]\u001b[49m\u001b[43m[\u001b[49m\u001b[43mprobs\u001b[49m\u001b[43m]\u001b[49m\u001b[43m)\u001b[49m\n\u001b[0;32m     24\u001b[0m     diff_mean \u001b[38;5;241m=\u001b[39m Z \u001b[38;5;241m-\u001b[39m modParam2[\u001b[38;5;124m'\u001b[39m\u001b[38;5;124mmean\u001b[39m\u001b[38;5;124m'\u001b[39m][probs]\n\u001b[0;32m     25\u001b[0m     diff_mean_t \u001b[38;5;241m=\u001b[39m np\u001b[38;5;241m.\u001b[39mtranspose(diff_mean)\n",
      "File \u001b[1;32m<__array_function__ internals>:180\u001b[0m, in \u001b[0;36minv\u001b[1;34m(*args, **kwargs)\u001b[0m\n",
      "File \u001b[1;32m~\\AppData\\Local\\Programs\\Python\\Python310\\lib\\site-packages\\numpy\\linalg\\linalg.py:545\u001b[0m, in \u001b[0;36minv\u001b[1;34m(a)\u001b[0m\n\u001b[0;32m    543\u001b[0m signature \u001b[38;5;241m=\u001b[39m \u001b[38;5;124m'\u001b[39m\u001b[38;5;124mD->D\u001b[39m\u001b[38;5;124m'\u001b[39m \u001b[38;5;28;01mif\u001b[39;00m isComplexType(t) \u001b[38;5;28;01melse\u001b[39;00m \u001b[38;5;124m'\u001b[39m\u001b[38;5;124md->d\u001b[39m\u001b[38;5;124m'\u001b[39m\n\u001b[0;32m    544\u001b[0m extobj \u001b[38;5;241m=\u001b[39m get_linalg_error_extobj(_raise_linalgerror_singular)\n\u001b[1;32m--> 545\u001b[0m ainv \u001b[38;5;241m=\u001b[39m \u001b[43m_umath_linalg\u001b[49m\u001b[38;5;241;43m.\u001b[39;49m\u001b[43minv\u001b[49m\u001b[43m(\u001b[49m\u001b[43ma\u001b[49m\u001b[43m,\u001b[49m\u001b[43m \u001b[49m\u001b[43msignature\u001b[49m\u001b[38;5;241;43m=\u001b[39;49m\u001b[43msignature\u001b[49m\u001b[43m,\u001b[49m\u001b[43m \u001b[49m\u001b[43mextobj\u001b[49m\u001b[38;5;241;43m=\u001b[39;49m\u001b[43mextobj\u001b[49m\u001b[43m)\u001b[49m\n\u001b[0;32m    546\u001b[0m \u001b[38;5;28;01mreturn\u001b[39;00m wrap(ainv\u001b[38;5;241m.\u001b[39mastype(result_t, copy\u001b[38;5;241m=\u001b[39m\u001b[38;5;28;01mFalse\u001b[39;00m))\n",
      "File \u001b[1;32m~\\AppData\\Local\\Programs\\Python\\Python310\\lib\\site-packages\\numpy\\linalg\\linalg.py:88\u001b[0m, in \u001b[0;36m_raise_linalgerror_singular\u001b[1;34m(err, flag)\u001b[0m\n\u001b[0;32m     87\u001b[0m \u001b[38;5;28;01mdef\u001b[39;00m \u001b[38;5;21m_raise_linalgerror_singular\u001b[39m(err, flag):\n\u001b[1;32m---> 88\u001b[0m     \u001b[38;5;28;01mraise\u001b[39;00m LinAlgError(\u001b[38;5;124m\"\u001b[39m\u001b[38;5;124mSingular matrix\u001b[39m\u001b[38;5;124m\"\u001b[39m)\n",
      "\u001b[1;31mLinAlgError\u001b[0m: Singular matrix"
     ]
    }
   ],
   "source": [
    "##4b\n",
    "\n",
    "#====================================================#\n",
    "# YOUR CODE HERE:\n",
    "# Fit the ML parameters of model ii) to training data\n",
    "#====================================================#\n",
    "######MODEL 2######\n",
    "modParam2 = {}\n",
    "modParam2['pi'] = np.array((1/8, 1/8, 1/8, 1/8, 1/8, 1/8, 1/8, 1/8,))\n",
    "modParam2['mean'] = np_mean_arr\n",
    "modParam2['cov'] = [class_0_cov, class_1_cov, class_2_cov, class_3_cov, class_4_cov, class_5_cov, class_6_cov, class_7_cov]\n",
    "\n",
    "#######Test Model 2##########\n",
    "right = 0\n",
    "guesses = 0\n",
    "#print(modParam2['cov'])\n",
    "for classk in range(8):\n",
    "    for datas in range(91):\n",
    "        Z = (trainDataArr[classk, datas, ] ) * 5 #multiply by 5 to get firing rate\n",
    "        prob_arr = []\n",
    "        \n",
    "        for probs in range(8):\n",
    "            inv_cov = np.linalg.inv(modParam2['cov'][probs])\n",
    "            diff_mean = Z - modParam2['mean'][probs]\n",
    "            diff_mean_t = np.transpose(diff_mean)\n",
    "            log_det_cov = np.log(np.linalg.det(modParam2['cov'][probs]))\n",
    "            prob_class = -.5 * np.matmul(np.matmul(diff_mean_t, inv_cov), diff_mean) - (.5 *log_det_cov)\n",
    "            prob_arr.append(prob_class)\n",
    "        max_probs = np.max(prob_arr)\n",
    "        guess = prob_arr.index(max_probs)\n",
    "        if (guess == classk):\n",
    "            right+=1\n",
    "        guesses+=1\n",
    "print(f'Accuracy is {right/guesses}')\n",
    "\n",
    "\n",
    "#====================================================#\n",
    "# END YOUR CODE\n",
    "#====================================================# \n"
   ]
  },
  {
   "cell_type": "markdown",
   "metadata": {
    "id": "w3OY8-AzSMxg"
   },
   "source": [
    "#### Question:\n",
    "Why did the python error occur? What would we need to do to correct this error?"
   ]
  },
  {
   "cell_type": "markdown",
   "metadata": {
    "id": "0_9ksV_FSMxg"
   },
   "source": [
    "#### Your answer:  \n",
    "Part of the Covariance matrix is not the correct size due to neurons being silent over all samples for a class. "
   ]
  },
  {
   "cell_type": "markdown",
   "metadata": {
    "id": "L_iD3gudSMxh"
   },
   "source": [
    "### (c) (8 points) \n",
    "Correct the problem from part (b) by detecting and then removing offending neurons that cause the error. Now, what is the percent of test data points correctly classified? Is it higher or lower than your answer to part (a)? Why might this be?"
   ]
  },
  {
   "cell_type": "code",
   "execution_count": 88,
   "metadata": {
    "id": "X6-byIMKSMxh"
   },
   "outputs": [
    {
     "name": "stdout",
     "output_type": "stream",
     "text": [
      "Accuracy is 1.0\n"
     ]
    }
   ],
   "source": [
    "##4c\n",
    "neuronsToRemove = []\n",
    "#====================================================#\n",
    "# YOUR CODE HERE:\n",
    "#   Detect and then remove the offending neurons, so that \n",
    "#   you no longer run into the bug in part (b).\n",
    "#====================================================#\n",
    "for mov in means:\n",
    "    index = 0\n",
    "    for neuron in mov:   \n",
    "        if (np.mean(neuron)== 0):\n",
    "            neuronsToRemove.append(index)\n",
    "        index+=1\n",
    "#====================================================#\n",
    "# END YOUR CODE\n",
    "#====================================================# \n",
    "##\n",
    "#====================================================#\n",
    "# YOUR CODE HERE:\n",
    "# Fit the ML parameters,classify the test data and print the accuracy\n",
    "#====================================================#\n",
    "\n",
    "def remove_mul_ele(input_list,list_of_indexes):   \n",
    "    list_back = input_list\n",
    "    removed = 0\n",
    "    for index in list_of_indexes:\n",
    "        list_back.pop(index-removed)\n",
    "        removed+=1\n",
    "    return list_back\n",
    "neuronsToRemove = sorted(list(dict.fromkeys(neuronsToRemove)))\n",
    "num_removed = len(neuronsToRemove)\n",
    "tot_neurons = 97 - num_removed\n",
    "\n",
    "new_rates = []\n",
    "for mov in n_rates:\n",
    "    new_mov = remove_mul_ele(mov, neuronsToRemove)\n",
    "    new_rates.append(new_mov)\n",
    "\n",
    "    \n",
    "means = []\n",
    "for mov in new_rates:\n",
    "    mov_arr = []\n",
    "    for neuron in mov:\n",
    "        avg = np.mean(neuron)\n",
    "        mov_arr.append(avg)\n",
    "    means.append(mov_arr)\n",
    "np_mean_arr = np.empty([8,97-num_removed])\n",
    "for mov in range(8):\n",
    "    for neuron in range(97-num_removed):\n",
    "        np_mean_arr[mov][neuron] = means[mov][neuron]\n",
    "conv = ([vars for vars in new_rates[0]])\n",
    "class_0_cov = np.cov(conv[0:])\n",
    "conv = ([vars for vars in new_rates[1]])\n",
    "class_1_cov = np.cov(conv[0:])\n",
    "conv = ([vars for vars in new_rates[2]])\n",
    "class_2_cov = np.cov(conv[0:])\n",
    "conv = ([vars for vars in new_rates[3]])\n",
    "class_3_cov = np.cov(conv[0:])\n",
    "conv = ([vars for vars in new_rates[4]])\n",
    "class_4_cov = np.cov(conv[0:])\n",
    "conv = ([vars for vars in new_rates[5]])\n",
    "class_5_cov = np.cov(conv[0:])\n",
    "conv = ([vars for vars in new_rates[6]])\n",
    "class_6_cov = np.cov(conv[0:])\n",
    "conv = ([vars for vars in new_rates[7]])\n",
    "class_7_cov = np.cov(conv[0:])\n",
    "\n",
    "modParam2 = {}\n",
    "modParam2['pi'] = np.array((1/8, 1/8, 1/8, 1/8, 1/8, 1/8, 1/8, 1/8,))\n",
    "modParam2['mean'] = np_mean_arr\n",
    "modParam2['cov'] = [class_0_cov, class_1_cov, class_2_cov, class_3_cov, class_4_cov, class_5_cov, class_6_cov, class_7_cov]\n",
    "\n",
    "\n",
    "#######Test Model 1##########\n",
    "right = 0\n",
    "guesses = 0\n",
    "for classk in range(8):\n",
    "    for datas in range(91):\n",
    "        Z = (trainDataArr[classk, datas, ] ) * 5 #multiply by 5 to get firing rate\n",
    "        inds_to_delete = sorted(neuronsToRemove, reverse=True) # [5,3,1]\n",
    "        for inds in inds_to_delete:\n",
    "            Z = np.delete(Z, inds) \n",
    "        prob_arr= []\n",
    "        for probs in range(8):\n",
    "            inv_cov = np.linalg.inv(modParam2['cov'][probs])\n",
    "            diff_mean = Z - modParam2['mean'][probs]\n",
    "            diff_mean_t = np.transpose(diff_mean)\n",
    "            log_det_cov = np.log(np.linalg.det(modParam2['cov'][probs]))\n",
    "            prob_class = -.5 * np.matmul(np.matmul(diff_mean_t, inv_cov), diff_mean) - (.5 *log_det_cov)\n",
    "            prob_arr.append(prob_class)\n",
    "        #print(prob_arr)\n",
    "        #print(classk)\n",
    "        max_probs = np.max(prob_arr)\n",
    "        guess = prob_arr.index(max_probs)\n",
    "        if (guess == classk):\n",
    "            right+=1\n",
    "        guesses+=1\n",
    "print(f'Accuracy is {right/guesses}')\n",
    "\n",
    "\n",
    "\n",
    "\n",
    "\n",
    "#====================================================#\n",
    "# END YOUR CODE\n",
    "#====================================================# "
   ]
  },
  {
   "cell_type": "markdown",
   "metadata": {
    "id": "bW7hspdhSMxi"
   },
   "source": [
    "#### Question:\n",
    "What is the percent of test data points correctly classified? Is it higher or lower than your answer to part (a)? Why might this be?\n",
    "\n"
   ]
  },
  {
   "cell_type": "markdown",
   "metadata": {
    "id": "whIqye6iSMxi"
   },
   "source": [
    "#### Your answer:  \n",
    "It is higher at 100% becuase it uses individual covariance matrices which is more accurate than averaging over all the classes for one cov matrix."
   ]
  },
  {
   "cell_type": "markdown",
   "metadata": {
    "id": "PmsBZfQZSMxi"
   },
   "source": [
    "### (d) (8 points) \n",
    "Now we classify using a naive Bayes model. Repeat part (a) for model iii). Keep the convention in part (c), where offending neurons were removed from the anal- ysis."
   ]
  },
  {
   "cell_type": "code",
   "execution_count": 84,
   "metadata": {
    "id": "8TD6UGfDSMxj"
   },
   "outputs": [
    {
     "name": "stdout",
     "output_type": "stream",
     "text": [
      "Accuracy is 0.9313186813186813\n"
     ]
    }
   ],
   "source": [
    "##4d\n",
    "#====================================================#\n",
    "# YOUR CODE HERE:\n",
    "# Fit the ML parameters,classify the test data and print the accuracy\n",
    "#====================================================#\n",
    "modParam3 = {}\n",
    "modParam3['pi'] = np.array((1/8, 1/8, 1/8, 1/8, 1/8, 1/8, 1/8, 1/8,))\n",
    "modParam3['mean'] = np_mean_arr\n",
    "\n",
    "\n",
    "right = 0\n",
    "guesses = 0\n",
    "\n",
    "##Test\n",
    "for classk in range(8):\n",
    "    for datas in range(91):\n",
    "        Z = (trainDataArr[classk, datas, ]) * 5 #multiply by 5 to get firing rate\n",
    "        inds_to_delete = sorted(neuronsToRemove, reverse=True) # [5,3,1]\n",
    "        for inds in inds_to_delete:\n",
    "            Z = np.delete(Z, inds) \n",
    "        \n",
    "        prob_arr= []\n",
    "        for probs in range(8):\n",
    "            prob = 0\n",
    "            for neuron in range(97 - num_removed):\n",
    "                lamda = modParam3['mean'][probs][neuron]\n",
    "                summed = Z[neuron] * np.log(lamda) - lamda\n",
    "                prob += summed\n",
    "            prob_arr.append(prob)\n",
    "            \n",
    "        max_probs = np.max(prob_arr)\n",
    "        guess = prob_arr.index(max_probs)\n",
    "        if (guess == classk):\n",
    "            right+=1\n",
    "        guesses+=1\n",
    "print(f'Accuracy is {right/guesses}')\n",
    "        \n",
    "#====================================================#\n",
    "# END YOUR CODE\n",
    "#====================================================# "
   ]
  },
  {
   "cell_type": "markdown",
   "metadata": {
    "id": "ggPqsqlOSMxj"
   },
   "source": [
    "#### Question:\n",
    "what is the percent of test data points correctly classified? "
   ]
  },
  {
   "cell_type": "markdown",
   "metadata": {
    "id": "WaAAIUtkSMxj"
   },
   "source": [
    "#### Your answer: \n",
    "93%"
   ]
  }
 ],
 "metadata": {
  "colab": {
   "name": "hw4p4.ipynb",
   "provenance": []
  },
  "kernelspec": {
   "display_name": "Python 3 (ipykernel)",
   "language": "python",
   "name": "python3"
  },
  "language_info": {
   "codemirror_mode": {
    "name": "ipython",
    "version": 3
   },
   "file_extension": ".py",
   "mimetype": "text/x-python",
   "name": "python",
   "nbconvert_exporter": "python",
   "pygments_lexer": "ipython3",
   "version": "3.10.2"
  }
 },
 "nbformat": 4,
 "nbformat_minor": 1
}
